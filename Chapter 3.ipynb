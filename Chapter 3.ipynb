{
 "cells": [
  {
   "cell_type": "markdown",
   "metadata": {},
   "source": [
    "**Excercise 3.1**"
   ]
  },
  {
   "cell_type": "code",
   "execution_count": 10,
   "metadata": {},
   "outputs": [],
   "source": [
    "def right_justify(s: str, col: int) -> str:\n",
    "    l = len(s)\n",
    "    n = col-l\n",
    "    spaces = ' '*n\n",
    "    return(spaces+s)"
   ]
  },
  {
   "cell_type": "code",
   "execution_count": 11,
   "metadata": {},
   "outputs": [
    {
     "name": "stdout",
     "output_type": "stream",
     "text": [
      "                                                                 monty\n"
     ]
    }
   ],
   "source": [
    "print(right_justify('monty', 70))"
   ]
  },
  {
   "cell_type": "markdown",
   "metadata": {},
   "source": [
    "**Excercise 3.2**"
   ]
  },
  {
   "cell_type": "code",
   "execution_count": 12,
   "metadata": {},
   "outputs": [
    {
     "name": "stdout",
     "output_type": "stream",
     "text": [
      "spam\n",
      "spam\n"
     ]
    }
   ],
   "source": [
    "def do_twice(f):\n",
    "    f()\n",
    "    f()\n",
    "    \n",
    "def print_spam():\n",
    "    print('spam')\n",
    "\n",
    "do_twice(print_spam)"
   ]
  },
  {
   "cell_type": "code",
   "execution_count": 17,
   "metadata": {},
   "outputs": [
    {
     "name": "stdout",
     "output_type": "stream",
     "text": [
      "spam\n",
      "spam\n"
     ]
    }
   ],
   "source": [
    "def do_twice(f, arg):\n",
    "    f(arg)\n",
    "    f(arg)\n",
    "    \n",
    "def print_spam(arg):\n",
    "    print(arg)\n",
    "\n",
    "do_twice(print_spam, 'spam')"
   ]
  },
  {
   "cell_type": "code",
   "execution_count": 18,
   "metadata": {},
   "outputs": [
    {
     "name": "stdout",
     "output_type": "stream",
     "text": [
      "spam\n",
      "spam\n",
      "spam\n",
      "spam\n"
     ]
    }
   ],
   "source": [
    "def do_four(f, arg):\n",
    "    do_twice(f, arg)\n",
    "    do_twice(f, arg)\n",
    "do_four(print_spam, \"spam\")"
   ]
  },
  {
   "cell_type": "code",
   "execution_count": 22,
   "metadata": {},
   "outputs": [
    {
     "name": "stdout",
     "output_type": "stream",
     "text": [
      "+ - - - -  + - - - -  +\n",
      "|          |          |\n",
      "|          |          |\n",
      "|          |          |\n",
      "|          |          |\n",
      "+ - - - -  + - - - -  +\n",
      "|          |          |\n",
      "|          |          |\n",
      "|          |          |\n",
      "|          |          |\n",
      "+ - - - -  + - - - -  +\n"
     ]
    }
   ],
   "source": [
    "print(\"+\",\"- \"*4,\"+\",\"- \"*4,\"+\")\n",
    "print(\"|\",\"  \"*4,\"|\",\"  \"*4,\"|\")\n",
    "print(\"|\",\"  \"*4,\"|\",\"  \"*4,\"|\")\n",
    "print(\"|\",\"  \"*4,\"|\",\"  \"*4,\"|\")\n",
    "print(\"|\",\"  \"*4,\"|\",\"  \"*4,\"|\")\n",
    "\n",
    "print(\"+\",\"- \"*4,\"+\",\"- \"*4,\"+\")\n",
    "print(\"|\",\"  \"*4,\"|\",\"  \"*4,\"|\")\n",
    "print(\"|\",\"  \"*4,\"|\",\"  \"*4,\"|\")\n",
    "print(\"|\",\"  \"*4,\"|\",\"  \"*4,\"|\")\n",
    "print(\"|\",\"  \"*4,\"|\",\"  \"*4,\"|\")\n",
    "\n",
    "print(\"+\",\"- \"*4,\"+\",\"- \"*4,\"+\")"
   ]
  },
  {
   "cell_type": "code",
   "execution_count": null,
   "metadata": {},
   "outputs": [],
   "source": []
  }
 ],
 "metadata": {
  "kernelspec": {
   "display_name": "Python 3",
   "language": "python",
   "name": "python3"
  },
  "language_info": {
   "codemirror_mode": {
    "name": "ipython",
    "version": 3
   },
   "file_extension": ".py",
   "mimetype": "text/x-python",
   "name": "python",
   "nbconvert_exporter": "python",
   "pygments_lexer": "ipython3",
   "version": "3.7.4"
  }
 },
 "nbformat": 4,
 "nbformat_minor": 2
}
