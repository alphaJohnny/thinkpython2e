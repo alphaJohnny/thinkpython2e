{
 "cells": [
  {
   "cell_type": "markdown",
   "metadata": {},
   "source": [
    "**Excercise 6.2** The Ackermann function, $A(m, n)$, is defined:\n",
    "\n",
    "\\begin{align}\n",
    "A(m,n) =  \\left \\{ \n",
    "\\begin{matrix}\n",
    "\\begin{split}\n",
    "& n + 1 \\;\\;\\;\\;\\;\\;\\;\\;\\;\\;\\;\\;\\;\\; &if \\; m = 0\\\\\n",
    "& A(m − 1, 1) \\;\\;\\;\\;\\;\\;\\;\\;\\;\\;\\;\\;\\;\\; &if \\;m > 0 \\;and \\; n = 0\\\\\n",
    "& A(m − 1, A(m, n − 1)) \\;\\;\\;\\;\\;\\;\\;\\;\\;\\;\\;\\;\\;\\; &if \\; m > 0 \\; and \\; n > 0\n",
    "\\end{split}\n",
    "\\end{matrix}\n",
    "\\right .\n",
    "\\end{align}\n",
    "\n",
    "Write a function named ```ack```\n",
    "that evaluates the Ackermann function. Use your function to evaluate ```ack(3, 4)```, which should be 125. What happens for larger values of m and n?"
   ]
  },
  {
   "cell_type": "code",
   "execution_count": 1,
   "metadata": {},
   "outputs": [
    {
     "data": {
      "text/plain": [
       "125"
      ]
     },
     "execution_count": 1,
     "metadata": {},
     "output_type": "execute_result"
    }
   ],
   "source": [
    "def ack(m,n):\n",
    "    if m == 0:\n",
    "        return n+1\n",
    "    elif m>0 and n==0:\n",
    "        return ack(m-1,1)\n",
    "    else :\n",
    "        return ack(m-1, ack(m, n-1))\n",
    "    \n",
    "ack(3,4)"
   ]
  },
  {
   "cell_type": "markdown",
   "metadata": {},
   "source": [
    "**Exercise 6.3.** A palindrome is a word that is spelled the same backward and forward, like “noon”\n",
    "and “redivider”. Recursively, a word is a palindrome if the first and last letters are the same and the\n",
    "middle is a palindrome.\n",
    "The following are functions that take a string argument and return the first, last, and middle letters:\n",
    "```python\n",
    "def first(word):\n",
    "return word[0]\n",
    "def last(word):\n",
    "return word[-1]\n",
    "def middle(word):\n",
    "return word[1:-1]\n",
    "```\n",
    "We’ll see how they work in Chapter 8.\n",
    "\n",
    "1. Type these functions into a file named palindrome.py and test them out. What happens if \n",
    "you call middle with a string with two letters? One letter? What about the empty string, \n",
    "which is written '' and contains no letters?\n",
    "2. Write a function called is_palindrome that takes a string argument and returns True if it\n",
    "is a palindrome and False otherwise. Remember that you can use the built-in function len\n",
    "to check the length of a string.\n",
    "\n",
    "_Solution:_ http://thinkpython2.com/code/palindrome_soln.py "
   ]
  },
  {
   "cell_type": "code",
   "execution_count": 7,
   "metadata": {},
   "outputs": [
    {
     "name": "stdout",
     "output_type": "stream",
     "text": [
      "Is_palindrome dud True\n",
      "Is_palindrome johnny False\n",
      "Is_palindrome racecar True\n"
     ]
    }
   ],
   "source": [
    "def is_palindrome(s:str) -> bool:\n",
    "    \"\"\"Returns True / False given string is a Palindrome or not.\"\"\"\n",
    "    if s == s[::-1]:\n",
    "        return True\n",
    "    else:\n",
    "        return False\n",
    "    \n",
    "print('Is_palindrome dud',is_palindrome('dud'))\n",
    "print('Is_palindrome johnny',is_palindrome('johnny'))\n",
    "print('Is_palindrome racecar',is_palindrome('racecar'))"
   ]
  },
  {
   "cell_type": "markdown",
   "metadata": {},
   "source": [
    "**Exercise 6.4.** A number, a, is a power of b if it is divisible by b and a/b is a power of b. Write a\n",
    "function called is_power that takes parameters a and b and returns True if a is a power of b. Note:\n",
    "you will have to think about the base case."
   ]
  },
  {
   "cell_type": "code",
   "execution_count": 30,
   "metadata": {},
   "outputs": [],
   "source": [
    "def is_power(a: int, b: int) -> bool:\n",
    "    \"\"\"A function returning (is A is a power of B)\n",
    "    Args:\n",
    "        param1 (int): The first param A\n",
    "        param2 (int): The second parameter B\n",
    "\n",
    "    Returns:\n",
    "        bool: The return value. True if A is a power of B, False otherwise.\n",
    "\"\"\"\n",
    "    if a == 1:                  # anything to the power of 0 is 1\n",
    "        return True\n",
    "    elif a < b:\n",
    "        return False\n",
    "    elif a == b:               # True as 2^1 == 2. This also is the exit case for recursion\n",
    "        return True\n",
    "    elif a % b == 0 and is_power(a/b, b):\n",
    "        return True\n",
    "    else:\n",
    "        return False"
   ]
  },
  {
   "cell_type": "code",
   "execution_count": 35,
   "metadata": {},
   "outputs": [
    {
     "data": {
      "text/plain": [
       "False"
      ]
     },
     "execution_count": 35,
     "metadata": {},
     "output_type": "execute_result"
    }
   ],
   "source": [
    "is_power(12,2)"
   ]
  },
  {
   "cell_type": "code",
   "execution_count": 32,
   "metadata": {},
   "outputs": [
    {
     "data": {
      "text/plain": [
       "True"
      ]
     },
     "execution_count": 32,
     "metadata": {},
     "output_type": "execute_result"
    }
   ],
   "source": [
    "is_power(4,2)"
   ]
  },
  {
   "cell_type": "code",
   "execution_count": 33,
   "metadata": {},
   "outputs": [
    {
     "data": {
      "text/plain": [
       "True"
      ]
     },
     "execution_count": 33,
     "metadata": {},
     "output_type": "execute_result"
    }
   ],
   "source": [
    "is_power(27,3)"
   ]
  },
  {
   "cell_type": "code",
   "execution_count": 34,
   "metadata": {},
   "outputs": [
    {
     "data": {
      "text/plain": [
       "False"
      ]
     },
     "execution_count": 34,
     "metadata": {},
     "output_type": "execute_result"
    }
   ],
   "source": [
    "is_power(23,3)"
   ]
  },
  {
   "cell_type": "markdown",
   "metadata": {},
   "source": [
    "**Exercise 6.5.** The greatest common divisor (GCD) of a and b is the largest number that divides\n",
    "both of them with no remainder.\n",
    "One way to find the GCD of two numbers is based on the observation that if r is the remainder when\n",
    "a is divided by b, then gcd(a, b) = gcd(b,r). As a base case, we can use gcd(a, 0) = a.\n",
    "Write a function called gcd that takes parameters a and b and returns their greatest common divisor.\n",
    "Credit: This exercise is based on an example from Abelson and Sussman’s Structure and Interpretation of Computer Programs"
   ]
  },
  {
   "cell_type": "code",
   "execution_count": 53,
   "metadata": {},
   "outputs": [],
   "source": [
    "def gcd(a:int,b:int)->int:\n",
    "    \"\"\"Greatest common divisor of a,b\n",
    "    Args:\n",
    "        param 1 (int): The first parameter\n",
    "        param 2 (int): The second parameter\n",
    "        \n",
    "    Returns:\n",
    "        int: The greatest common divisor\n",
    "    \"\"\"\n",
    "    print(\"Called with a %i and b %i\" %(a,b))\n",
    "    if a == 0 :\n",
    "        return b\n",
    "    elif b == 0:\n",
    "        return a\n",
    "    else:\n",
    "        r = a % b\n",
    "        print(\"remainder:\",r)\n",
    "        return gcd(b,r)"
   ]
  },
  {
   "cell_type": "code",
   "execution_count": 54,
   "metadata": {},
   "outputs": [
    {
     "name": "stdout",
     "output_type": "stream",
     "text": [
      "Called with a 9 and b 12\n",
      "remainder: 9\n",
      "Called with a 12 and b 9\n",
      "remainder: 3\n",
      "Called with a 9 and b 3\n",
      "remainder: 0\n",
      "Called with a 3 and b 0\n"
     ]
    },
    {
     "data": {
      "text/plain": [
       "3"
      ]
     },
     "execution_count": 54,
     "metadata": {},
     "output_type": "execute_result"
    }
   ],
   "source": [
    "gcd(9,12)"
   ]
  },
  {
   "cell_type": "code",
   "execution_count": 47,
   "metadata": {},
   "outputs": [
    {
     "data": {
      "text/plain": [
       "9"
      ]
     },
     "execution_count": 47,
     "metadata": {},
     "output_type": "execute_result"
    }
   ],
   "source": [
    "gcd(9,9)"
   ]
  },
  {
   "cell_type": "code",
   "execution_count": null,
   "metadata": {},
   "outputs": [],
   "source": []
  }
 ],
 "metadata": {
  "kernelspec": {
   "display_name": "Python 3",
   "language": "python",
   "name": "python3"
  },
  "language_info": {
   "codemirror_mode": {
    "name": "ipython",
    "version": 3
   },
   "file_extension": ".py",
   "mimetype": "text/x-python",
   "name": "python",
   "nbconvert_exporter": "python",
   "pygments_lexer": "ipython3",
   "version": "3.7.4"
  }
 },
 "nbformat": 4,
 "nbformat_minor": 2
}
