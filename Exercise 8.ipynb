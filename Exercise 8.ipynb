{
 "cells": [
  {
   "cell_type": "markdown",
   "metadata": {},
   "source": [
    "**Exercise 8.1.** Read the documentation of the string methods at http://docs.python.org/3/library/stdtypes.html#string-methods . You might want to experiment with some of them\n",
    "to make sure you understand how they work. strip and replace are particularly useful.\n",
    "The documentation uses a syntax that might be confusing. For example, in\n",
    "find(sub\\[, start\\[, end\\]\\]), the brackets indicate optional arguments. So sub is required, but\n",
    "start is optional, and if you include start, then end is optional."
   ]
  },
  {
   "cell_type": "markdown",
   "metadata": {},
   "source": [
    "**Exercise 8.2.** There is a string method called count that is similar to the function in Section 8.7.\n",
    "Read the documentation of this method and write an invocation that counts the number of a’s in\n",
    "'banana'."
   ]
  },
  {
   "cell_type": "code",
   "execution_count": 1,
   "metadata": {},
   "outputs": [
    {
     "data": {
      "text/plain": [
       "3"
      ]
     },
     "execution_count": 1,
     "metadata": {},
     "output_type": "execute_result"
    }
   ],
   "source": [
    "s = 'banana'\n",
    "s.count('a')"
   ]
  },
  {
   "cell_type": "markdown",
   "metadata": {},
   "source": [
    "**Exercise 8.3.** A string slice can take a third index that specifies the “step size”; that is, the number\n",
    "of spaces between successive characters. A step size of 2 means every other character; 3 means every\n",
    "third, etc.\n",
    "A step size of -1 goes through the word backwards, so the slice \\[::-1] generates a reversed string.\n",
    "Use this idiom to write a one-line version of is_palindrome from Exercise 6.3."
   ]
  },
  {
   "cell_type": "code",
   "execution_count": 4,
   "metadata": {},
   "outputs": [
    {
     "data": {
      "text/plain": [
       "False"
      ]
     },
     "execution_count": 4,
     "metadata": {},
     "output_type": "execute_result"
    }
   ],
   "source": [
    "def is_palindrome(a,b):\n",
    "    return a == b[::-1]\n",
    "is_palindrome(\"dud\",\"dud\")"
   ]
  },
  {
   "cell_type": "code",
   "execution_count": 5,
   "metadata": {},
   "outputs": [
    {
     "data": {
      "text/plain": [
       "False"
      ]
     },
     "execution_count": 5,
     "metadata": {},
     "output_type": "execute_result"
    }
   ],
   "source": [
    "is_palindrome('jack','jack')"
   ]
  },
  {
   "cell_type": "markdown",
   "metadata": {},
   "source": [
    "**Exercise 8.4.** The following functions are all intended to check whether a string contains any\n",
    "lowercase letters, but at least some of them are wrong. For each function, describe what the function\n",
    "actually does (assuming that the parameter is a string).\n",
    "```python\n",
    "def any_lowercase1(s):\n",
    "    for c in s:\n",
    "        if c.islower():\n",
    "           return True\n",
    "        else:\n",
    "            return False\n",
    "def any_lowercase2(s):\n",
    "    for c in s:\n",
    "        if 'c'.islower():\n",
    "            return 'True'\n",
    "        else:\n",
    "            return 'False'\n",
    "def any_lowercase3(s):\n",
    "    for c in s:\n",
    "        flag = c.islower()\n",
    "        return flag\n",
    "def any_lowercase4(s):\n",
    "    flag = False\n",
    "    for c in s:\n",
    "        flag = flag or c.islower()\n",
    "    return flag\n",
    "def any_lowercase5(s):\n",
    "    for c in s:\n",
    "        if not c.islower():\n",
    "            return False\n",
    "    return True\n",
    "```"
   ]
  },
  {
   "cell_type": "markdown",
   "metadata": {},
   "source": [
    "**Exercise 8.5.** A Caesar cypher is a weak form of encryption that involves “rotating” each letter by\n",
    "a fixed number of places. To rotate a letter means to shift it through the alphabet, wrapping around\n",
    "to the beginning if necessary, so ’A’ rotated by 3 is ’D’ and ’Z’ rotated by 1 is ’A’.\n",
    "To rotate a word, rotate each letter by the same amount. For example, “cheer” rotated by 7 is “jolly”\n",
    "and “melon” rotated by -10 is “cubed”. In the **movie 2001: A Space Odyssey**, the ship computer\n",
    "is called HAL, which is IBM rotated by -1.\n",
    "Write a function called rotate_word that takes a string and an integer as parameters, and returns\n",
    "a new string that contains the letters from the original string rotated by the given amount.\n",
    "You might want to use the built-in function ord, which converts a character to a numeric code, and\n",
    "`chr`, which converts numeric codes to characters. Letters of the alphabet are encoded in alphabetical\n",
    "order, so for example:\n",
    "```python\n",
    ">>> ord('c') - ord('a')\n",
    "2\n",
    "```\n",
    "Because 'c' is the two-eth letter of the alphabet. But beware: the numeric codes for upper case\n",
    "letters are different.\n",
    "Potentially offensive jokes on the Internet are sometimes encoded in ROT13, which is a Caesar\n",
    "cypher with rotation 13. If you are not easily offended, find and decode some of them. Solution:\n",
    "http://thinkpython2.com/code/rotate.py ."
   ]
  },
  {
   "cell_type": "code",
   "execution_count": 6,
   "metadata": {},
   "outputs": [
    {
     "name": "stdout",
     "output_type": "stream",
     "text": [
      "jolly\n",
      "cubed\n",
      "bunny\n"
     ]
    }
   ],
   "source": [
    "from __future__ import print_function, division\n",
    "\n",
    "\n",
    "def rotate_letter(letter, n):\n",
    "    \"\"\"Rotates a letter by n places.  Does not change other chars.\n",
    "\n",
    "    letter: single-letter string\n",
    "    n: int\n",
    "\n",
    "    Returns: single-letter string\n",
    "    \"\"\"\n",
    "    if letter.isupper():\n",
    "        start = ord('A')\n",
    "    elif letter.islower():\n",
    "        start = ord('a')\n",
    "    else:\n",
    "        return letter\n",
    "\n",
    "    c = ord(letter) - start\n",
    "    i = (c + n) % 26 + start\n",
    "    return chr(i)\n",
    "\n",
    "\n",
    "def rotate_word(word, n):\n",
    "    \"\"\"Rotates a word by n places.\n",
    "\n",
    "    word: string\n",
    "    n: integer\n",
    "\n",
    "    Returns: string\n",
    "    \"\"\"\n",
    "    res = ''\n",
    "    for letter in word:\n",
    "        res += rotate_letter(letter, n)\n",
    "    return res\n",
    "\n",
    "\n",
    "if __name__ == '__main__':\n",
    "    print(rotate_word('cheer', 7))\n",
    "    print(rotate_word('melon', -10))\n",
    "    print(rotate_word('sleep', 9))"
   ]
  },
  {
   "cell_type": "code",
   "execution_count": null,
   "metadata": {},
   "outputs": [],
   "source": []
  }
 ],
 "metadata": {
  "kernelspec": {
   "display_name": "Python 3",
   "language": "python",
   "name": "python3"
  },
  "language_info": {
   "codemirror_mode": {
    "name": "ipython",
    "version": 3
   },
   "file_extension": ".py",
   "mimetype": "text/x-python",
   "name": "python",
   "nbconvert_exporter": "python",
   "pygments_lexer": "ipython3",
   "version": "3.7.4"
  }
 },
 "nbformat": 4,
 "nbformat_minor": 2
}
